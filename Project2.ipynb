{
  "nbformat": 4,
  "nbformat_minor": 0,
  "metadata": {
    "colab": {
      "provenance": [],
      "include_colab_link": true
    },
    "kernelspec": {
      "name": "python3",
      "display_name": "Python 3"
    },
    "language_info": {
      "name": "python"
    },
    "accelerator": "GPU",
    "gpuClass": "standard"
  },
  "cells": [
    {
      "cell_type": "markdown",
      "metadata": {
        "id": "view-in-github",
        "colab_type": "text"
      },
      "source": [
        "<a href=\"https://colab.research.google.com/github/DrakeCS167Fall22/cs167fall22project2-messerli-wallace/blob/main/Project2.ipynb\" target=\"_parent\"><img src=\"https://colab.research.google.com/assets/colab-badge.svg\" alt=\"Open In Colab\"/></a>"
      ]
    },
    {
      "cell_type": "markdown",
      "source": [
        "# Project #2\n",
        "##Name: Jack Messerli-Wallace\n",
        "\n",
        "Proposed Points (out of 25): 25"
      ],
      "metadata": {
        "id": "rIepkBIuT_Pl"
      }
    },
    {
      "cell_type": "markdown",
      "source": [
        "# 1. Problem\n",
        "State the problem you are trying to solve with this machine learning experiment. Include a description of the data, where you got the data, and what you're trying to predict.."
      ],
      "metadata": {
        "id": "HbwKLNhzP8YO"
      }
    },
    {
      "cell_type": "markdown",
      "source": [
        "The problem I'm trying to solve is to classify mushroom types as edible (not poisonous) or not edible (poisonous) based on various qualitative and quantitative factors. My attempt at classification will be done with TensorFlow Keras multi-layer neural networks.\n",
        "\n",
        "The data is from the following link (Kaggle):\n",
        "\n",
        "https://www.kaggle.com/datasets/devzohaib/mushroom-edibility-classification\n",
        "\n",
        "The data has 20 features to be used for classification. Columns describe mushroom appearance and size via different factors having to do with the mushroom cap, stem, and more."
      ],
      "metadata": {
        "id": "LwseoUsMmCz2"
      }
    },
    {
      "cell_type": "markdown",
      "source": [
        "# 2. Data Preparation\n",
        "Explain your data preparation. What did you have to do to get your data in shape for your experiments? Why are you certain that you data is clean and prepared for use in your algorithms?"
      ],
      "metadata": {
        "id": "qR_foVOeQVL7"
      }
    },
    {
      "cell_type": "markdown",
      "source": [
        "*First is to load the dataset.*"
      ],
      "metadata": {
        "id": "aMDJDnW_mOWu"
      }
    },
    {
      "cell_type": "code",
      "source": [
        "# load and prepare your data here\n",
        "from google.colab import drive\n",
        "import pandas as pd\n",
        "import pandas\n",
        "drive.mount('/content/drive')\n",
        "data= pd.read_csv('/content/drive/MyDrive/CS_Class_Files/Datasets/mushroom/secondary_data.csv',delimiter=';')\n",
        "data.head()"
      ],
      "metadata": {
        "id": "9dUdBChRmKxR",
        "colab": {
          "base_uri": "https://localhost:8080/",
          "height": 332
        },
        "outputId": "ae9027c0-31ce-44b8-bec6-0640737cc44c"
      },
      "execution_count": 1,
      "outputs": [
        {
          "output_type": "stream",
          "name": "stdout",
          "text": [
            "Mounted at /content/drive\n"
          ]
        },
        {
          "output_type": "execute_result",
          "data": {
            "text/plain": [
              "  class  cap-diameter cap-shape cap-surface cap-color does-bruise-or-bleed  \\\n",
              "0     p         15.26         x           g         o                    f   \n",
              "1     p         16.60         x           g         o                    f   \n",
              "2     p         14.07         x           g         o                    f   \n",
              "3     p         14.17         f           h         e                    f   \n",
              "4     p         14.64         x           h         o                    f   \n",
              "\n",
              "  gill-attachment gill-spacing gill-color  stem-height  ...  stem-root  \\\n",
              "0               e          NaN          w        16.95  ...          s   \n",
              "1               e          NaN          w        17.99  ...          s   \n",
              "2               e          NaN          w        17.80  ...          s   \n",
              "3               e          NaN          w        15.77  ...          s   \n",
              "4               e          NaN          w        16.53  ...          s   \n",
              "\n",
              "  stem-surface stem-color veil-type veil-color has-ring ring-type  \\\n",
              "0            y          w         u          w        t         g   \n",
              "1            y          w         u          w        t         g   \n",
              "2            y          w         u          w        t         g   \n",
              "3            y          w         u          w        t         p   \n",
              "4            y          w         u          w        t         p   \n",
              "\n",
              "  spore-print-color habitat season  \n",
              "0               NaN       d      w  \n",
              "1               NaN       d      u  \n",
              "2               NaN       d      w  \n",
              "3               NaN       d      w  \n",
              "4               NaN       d      w  \n",
              "\n",
              "[5 rows x 21 columns]"
            ],
            "text/html": [
              "\n",
              "  <div id=\"df-819c2f1f-805d-4956-9333-4d86f11a004b\">\n",
              "    <div class=\"colab-df-container\">\n",
              "      <div>\n",
              "<style scoped>\n",
              "    .dataframe tbody tr th:only-of-type {\n",
              "        vertical-align: middle;\n",
              "    }\n",
              "\n",
              "    .dataframe tbody tr th {\n",
              "        vertical-align: top;\n",
              "    }\n",
              "\n",
              "    .dataframe thead th {\n",
              "        text-align: right;\n",
              "    }\n",
              "</style>\n",
              "<table border=\"1\" class=\"dataframe\">\n",
              "  <thead>\n",
              "    <tr style=\"text-align: right;\">\n",
              "      <th></th>\n",
              "      <th>class</th>\n",
              "      <th>cap-diameter</th>\n",
              "      <th>cap-shape</th>\n",
              "      <th>cap-surface</th>\n",
              "      <th>cap-color</th>\n",
              "      <th>does-bruise-or-bleed</th>\n",
              "      <th>gill-attachment</th>\n",
              "      <th>gill-spacing</th>\n",
              "      <th>gill-color</th>\n",
              "      <th>stem-height</th>\n",
              "      <th>...</th>\n",
              "      <th>stem-root</th>\n",
              "      <th>stem-surface</th>\n",
              "      <th>stem-color</th>\n",
              "      <th>veil-type</th>\n",
              "      <th>veil-color</th>\n",
              "      <th>has-ring</th>\n",
              "      <th>ring-type</th>\n",
              "      <th>spore-print-color</th>\n",
              "      <th>habitat</th>\n",
              "      <th>season</th>\n",
              "    </tr>\n",
              "  </thead>\n",
              "  <tbody>\n",
              "    <tr>\n",
              "      <th>0</th>\n",
              "      <td>p</td>\n",
              "      <td>15.26</td>\n",
              "      <td>x</td>\n",
              "      <td>g</td>\n",
              "      <td>o</td>\n",
              "      <td>f</td>\n",
              "      <td>e</td>\n",
              "      <td>NaN</td>\n",
              "      <td>w</td>\n",
              "      <td>16.95</td>\n",
              "      <td>...</td>\n",
              "      <td>s</td>\n",
              "      <td>y</td>\n",
              "      <td>w</td>\n",
              "      <td>u</td>\n",
              "      <td>w</td>\n",
              "      <td>t</td>\n",
              "      <td>g</td>\n",
              "      <td>NaN</td>\n",
              "      <td>d</td>\n",
              "      <td>w</td>\n",
              "    </tr>\n",
              "    <tr>\n",
              "      <th>1</th>\n",
              "      <td>p</td>\n",
              "      <td>16.60</td>\n",
              "      <td>x</td>\n",
              "      <td>g</td>\n",
              "      <td>o</td>\n",
              "      <td>f</td>\n",
              "      <td>e</td>\n",
              "      <td>NaN</td>\n",
              "      <td>w</td>\n",
              "      <td>17.99</td>\n",
              "      <td>...</td>\n",
              "      <td>s</td>\n",
              "      <td>y</td>\n",
              "      <td>w</td>\n",
              "      <td>u</td>\n",
              "      <td>w</td>\n",
              "      <td>t</td>\n",
              "      <td>g</td>\n",
              "      <td>NaN</td>\n",
              "      <td>d</td>\n",
              "      <td>u</td>\n",
              "    </tr>\n",
              "    <tr>\n",
              "      <th>2</th>\n",
              "      <td>p</td>\n",
              "      <td>14.07</td>\n",
              "      <td>x</td>\n",
              "      <td>g</td>\n",
              "      <td>o</td>\n",
              "      <td>f</td>\n",
              "      <td>e</td>\n",
              "      <td>NaN</td>\n",
              "      <td>w</td>\n",
              "      <td>17.80</td>\n",
              "      <td>...</td>\n",
              "      <td>s</td>\n",
              "      <td>y</td>\n",
              "      <td>w</td>\n",
              "      <td>u</td>\n",
              "      <td>w</td>\n",
              "      <td>t</td>\n",
              "      <td>g</td>\n",
              "      <td>NaN</td>\n",
              "      <td>d</td>\n",
              "      <td>w</td>\n",
              "    </tr>\n",
              "    <tr>\n",
              "      <th>3</th>\n",
              "      <td>p</td>\n",
              "      <td>14.17</td>\n",
              "      <td>f</td>\n",
              "      <td>h</td>\n",
              "      <td>e</td>\n",
              "      <td>f</td>\n",
              "      <td>e</td>\n",
              "      <td>NaN</td>\n",
              "      <td>w</td>\n",
              "      <td>15.77</td>\n",
              "      <td>...</td>\n",
              "      <td>s</td>\n",
              "      <td>y</td>\n",
              "      <td>w</td>\n",
              "      <td>u</td>\n",
              "      <td>w</td>\n",
              "      <td>t</td>\n",
              "      <td>p</td>\n",
              "      <td>NaN</td>\n",
              "      <td>d</td>\n",
              "      <td>w</td>\n",
              "    </tr>\n",
              "    <tr>\n",
              "      <th>4</th>\n",
              "      <td>p</td>\n",
              "      <td>14.64</td>\n",
              "      <td>x</td>\n",
              "      <td>h</td>\n",
              "      <td>o</td>\n",
              "      <td>f</td>\n",
              "      <td>e</td>\n",
              "      <td>NaN</td>\n",
              "      <td>w</td>\n",
              "      <td>16.53</td>\n",
              "      <td>...</td>\n",
              "      <td>s</td>\n",
              "      <td>y</td>\n",
              "      <td>w</td>\n",
              "      <td>u</td>\n",
              "      <td>w</td>\n",
              "      <td>t</td>\n",
              "      <td>p</td>\n",
              "      <td>NaN</td>\n",
              "      <td>d</td>\n",
              "      <td>w</td>\n",
              "    </tr>\n",
              "  </tbody>\n",
              "</table>\n",
              "<p>5 rows × 21 columns</p>\n",
              "</div>\n",
              "      <button class=\"colab-df-convert\" onclick=\"convertToInteractive('df-819c2f1f-805d-4956-9333-4d86f11a004b')\"\n",
              "              title=\"Convert this dataframe to an interactive table.\"\n",
              "              style=\"display:none;\">\n",
              "        \n",
              "  <svg xmlns=\"http://www.w3.org/2000/svg\" height=\"24px\"viewBox=\"0 0 24 24\"\n",
              "       width=\"24px\">\n",
              "    <path d=\"M0 0h24v24H0V0z\" fill=\"none\"/>\n",
              "    <path d=\"M18.56 5.44l.94 2.06.94-2.06 2.06-.94-2.06-.94-.94-2.06-.94 2.06-2.06.94zm-11 1L8.5 8.5l.94-2.06 2.06-.94-2.06-.94L8.5 2.5l-.94 2.06-2.06.94zm10 10l.94 2.06.94-2.06 2.06-.94-2.06-.94-.94-2.06-.94 2.06-2.06.94z\"/><path d=\"M17.41 7.96l-1.37-1.37c-.4-.4-.92-.59-1.43-.59-.52 0-1.04.2-1.43.59L10.3 9.45l-7.72 7.72c-.78.78-.78 2.05 0 2.83L4 21.41c.39.39.9.59 1.41.59.51 0 1.02-.2 1.41-.59l7.78-7.78 2.81-2.81c.8-.78.8-2.07 0-2.86zM5.41 20L4 18.59l7.72-7.72 1.47 1.35L5.41 20z\"/>\n",
              "  </svg>\n",
              "      </button>\n",
              "      \n",
              "  <style>\n",
              "    .colab-df-container {\n",
              "      display:flex;\n",
              "      flex-wrap:wrap;\n",
              "      gap: 12px;\n",
              "    }\n",
              "\n",
              "    .colab-df-convert {\n",
              "      background-color: #E8F0FE;\n",
              "      border: none;\n",
              "      border-radius: 50%;\n",
              "      cursor: pointer;\n",
              "      display: none;\n",
              "      fill: #1967D2;\n",
              "      height: 32px;\n",
              "      padding: 0 0 0 0;\n",
              "      width: 32px;\n",
              "    }\n",
              "\n",
              "    .colab-df-convert:hover {\n",
              "      background-color: #E2EBFA;\n",
              "      box-shadow: 0px 1px 2px rgba(60, 64, 67, 0.3), 0px 1px 3px 1px rgba(60, 64, 67, 0.15);\n",
              "      fill: #174EA6;\n",
              "    }\n",
              "\n",
              "    [theme=dark] .colab-df-convert {\n",
              "      background-color: #3B4455;\n",
              "      fill: #D2E3FC;\n",
              "    }\n",
              "\n",
              "    [theme=dark] .colab-df-convert:hover {\n",
              "      background-color: #434B5C;\n",
              "      box-shadow: 0px 1px 3px 1px rgba(0, 0, 0, 0.15);\n",
              "      filter: drop-shadow(0px 1px 2px rgba(0, 0, 0, 0.3));\n",
              "      fill: #FFFFFF;\n",
              "    }\n",
              "  </style>\n",
              "\n",
              "      <script>\n",
              "        const buttonEl =\n",
              "          document.querySelector('#df-819c2f1f-805d-4956-9333-4d86f11a004b button.colab-df-convert');\n",
              "        buttonEl.style.display =\n",
              "          google.colab.kernel.accessAllowed ? 'block' : 'none';\n",
              "\n",
              "        async function convertToInteractive(key) {\n",
              "          const element = document.querySelector('#df-819c2f1f-805d-4956-9333-4d86f11a004b');\n",
              "          const dataTable =\n",
              "            await google.colab.kernel.invokeFunction('convertToInteractive',\n",
              "                                                     [key], {});\n",
              "          if (!dataTable) return;\n",
              "\n",
              "          const docLinkHtml = 'Like what you see? Visit the ' +\n",
              "            '<a target=\"_blank\" href=https://colab.research.google.com/notebooks/data_table.ipynb>data table notebook</a>'\n",
              "            + ' to learn more about interactive tables.';\n",
              "          element.innerHTML = '';\n",
              "          dataTable['output_type'] = 'display_data';\n",
              "          await google.colab.output.renderOutput(dataTable, element);\n",
              "          const docLink = document.createElement('div');\n",
              "          docLink.innerHTML = docLinkHtml;\n",
              "          element.appendChild(docLink);\n",
              "        }\n",
              "      </script>\n",
              "    </div>\n",
              "  </div>\n",
              "  "
            ]
          },
          "metadata": {},
          "execution_count": 1
        }
      ]
    },
    {
      "cell_type": "markdown",
      "source": [
        "*I then import modules and check the runtime type.*"
      ],
      "metadata": {
        "id": "wfVFKhVlMBxk"
      }
    },
    {
      "cell_type": "code",
      "source": [
        "import tensorflow as tf\n",
        "device_name = tf.test.gpu_device_name()\n",
        "if device_name != '/device:GPU:0':\n",
        "  raise SystemError('GPU device not found')\n",
        "print('Found GPU at: {}'.format(device_name))\n",
        "\n",
        "import keras\n",
        "print (\"TensorFlow version: \" + tf.__version__)\n",
        "print (\"Keras version: \" + keras.__version__)\n",
        "\n",
        "import warnings\n",
        "warnings.filterwarnings('ignore')"
      ],
      "metadata": {
        "colab": {
          "base_uri": "https://localhost:8080/"
        },
        "id": "j87wc-yNiDaa",
        "outputId": "64eaef9e-2560-491b-de99-df5248c3135e"
      },
      "execution_count": 2,
      "outputs": [
        {
          "output_type": "stream",
          "name": "stdout",
          "text": [
            "Found GPU at: /device:GPU:0\n",
            "TensorFlow version: 2.9.2\n",
            "Keras version: 2.9.0\n"
          ]
        }
      ]
    },
    {
      "cell_type": "code",
      "source": [
        "import numpy\n",
        "import keras\n",
        "import sys\n",
        "from matplotlib import pyplot\n",
        "from keras.models import Sequential\n",
        "from keras.layers import Dense\n",
        "from keras.layers import Flatten\n",
        "import sys"
      ],
      "metadata": {
        "id": "ACuAd5nDj5gw"
      },
      "execution_count": 3,
      "outputs": []
    },
    {
      "cell_type": "markdown",
      "source": [
        "*I start preparing the data by removing useless data, starting by checking for null values.*"
      ],
      "metadata": {
        "id": "OiT1wEABMLeE"
      }
    },
    {
      "cell_type": "code",
      "source": [
        "data.isna().any()"
      ],
      "metadata": {
        "colab": {
          "base_uri": "https://localhost:8080/"
        },
        "id": "lO5CcFzsV24P",
        "outputId": "9114c270-9551-47ab-9d95-d77f50ae3054"
      },
      "execution_count": 4,
      "outputs": [
        {
          "output_type": "execute_result",
          "data": {
            "text/plain": [
              "class                   False\n",
              "cap-diameter            False\n",
              "cap-shape               False\n",
              "cap-surface              True\n",
              "cap-color               False\n",
              "does-bruise-or-bleed    False\n",
              "gill-attachment          True\n",
              "gill-spacing             True\n",
              "gill-color              False\n",
              "stem-height             False\n",
              "stem-width              False\n",
              "stem-root                True\n",
              "stem-surface             True\n",
              "stem-color              False\n",
              "veil-type                True\n",
              "veil-color               True\n",
              "has-ring                False\n",
              "ring-type                True\n",
              "spore-print-color        True\n",
              "habitat                 False\n",
              "season                  False\n",
              "dtype: bool"
            ]
          },
          "metadata": {},
          "execution_count": 4
        }
      ]
    },
    {
      "cell_type": "code",
      "source": [
        "data.info()"
      ],
      "metadata": {
        "colab": {
          "base_uri": "https://localhost:8080/"
        },
        "id": "Lkiy0RMWQzEe",
        "outputId": "99c04020-48a7-49e2-c9af-a7d777da6945"
      },
      "execution_count": 5,
      "outputs": [
        {
          "output_type": "stream",
          "name": "stdout",
          "text": [
            "<class 'pandas.core.frame.DataFrame'>\n",
            "RangeIndex: 61069 entries, 0 to 61068\n",
            "Data columns (total 21 columns):\n",
            " #   Column                Non-Null Count  Dtype  \n",
            "---  ------                --------------  -----  \n",
            " 0   class                 61069 non-null  object \n",
            " 1   cap-diameter          61069 non-null  float64\n",
            " 2   cap-shape             61069 non-null  object \n",
            " 3   cap-surface           46949 non-null  object \n",
            " 4   cap-color             61069 non-null  object \n",
            " 5   does-bruise-or-bleed  61069 non-null  object \n",
            " 6   gill-attachment       51185 non-null  object \n",
            " 7   gill-spacing          36006 non-null  object \n",
            " 8   gill-color            61069 non-null  object \n",
            " 9   stem-height           61069 non-null  float64\n",
            " 10  stem-width            61069 non-null  float64\n",
            " 11  stem-root             9531 non-null   object \n",
            " 12  stem-surface          22945 non-null  object \n",
            " 13  stem-color            61069 non-null  object \n",
            " 14  veil-type             3177 non-null   object \n",
            " 15  veil-color            7413 non-null   object \n",
            " 16  has-ring              61069 non-null  object \n",
            " 17  ring-type             58598 non-null  object \n",
            " 18  spore-print-color     6354 non-null   object \n",
            " 19  habitat               61069 non-null  object \n",
            " 20  season                61069 non-null  object \n",
            "dtypes: float64(3), object(18)\n",
            "memory usage: 9.8+ MB\n"
          ]
        }
      ]
    },
    {
      "cell_type": "code",
      "source": [
        "not_usable_columns = ['cap-surface','gill-attachment','gill-spacing','stem-root','stem-surface','veil-type','veil-color','spore-print-color']\n",
        "data.drop(not_usable_columns, axis=1, inplace=True)"
      ],
      "metadata": {
        "id": "xJd69zLXU2FX"
      },
      "execution_count": 6,
      "outputs": []
    },
    {
      "cell_type": "markdown",
      "source": [
        "*The .info() call allows me to see how many non-null values we have in each column, such that I can figure out which features to drop versus impute. Below I describe why I dropped the columns above and what I'm doing with the other columns with null-values.*\n",
        "\n",
        "*'cap-surface' has roughly 2/3 non-null values, but from data inspection has too many different possible values (which are categorical), so I made the call to drop this column*\n",
        "\n",
        "*'gill-attachment' has roughly 5/6 non-null values, but some of the non-null values include unknown values (denoted by '?'). This column is dropped for this reason.*\n",
        "\n",
        "*'gill-spacing', 'stem-root', 'stem-surface', 'veil-type', 'veil-color', and 'spore-print-color' are all columns with half or less of the values being non-null, so they have been dropped.*\n",
        "\n",
        "*'ring-type' has only a few thousand null-values, so the following cells will be dealing with fixing that column.*"
      ],
      "metadata": {
        "id": "aJOxC-a-fmXe"
      }
    },
    {
      "cell_type": "code",
      "source": [
        "data['ring-type'].value_counts()"
      ],
      "metadata": {
        "colab": {
          "base_uri": "https://localhost:8080/"
        },
        "id": "BAZBsO5TcNyf",
        "outputId": "3be1fa1c-1e4e-4486-f3b1-e16ca2b7614a"
      },
      "execution_count": 7,
      "outputs": [
        {
          "output_type": "execute_result",
          "data": {
            "text/plain": [
              "f    48361\n",
              "e     2435\n",
              "z     2118\n",
              "l     1427\n",
              "r     1399\n",
              "p     1265\n",
              "g     1240\n",
              "m      353\n",
              "Name: ring-type, dtype: int64"
            ]
          },
          "metadata": {},
          "execution_count": 7
        }
      ]
    },
    {
      "cell_type": "markdown",
      "source": [
        "*Because 'f' comprises a majority of the values, it will be used to fill the NaN values.*"
      ],
      "metadata": {
        "id": "HynVFEGLdLiG"
      }
    },
    {
      "cell_type": "code",
      "source": [
        "data['ring-type'].fillna(value='f',inplace=True)"
      ],
      "metadata": {
        "id": "eGc46ThsaohX"
      },
      "execution_count": 8,
      "outputs": []
    },
    {
      "cell_type": "code",
      "source": [
        "#double checking that the previous call worked\n",
        "data['ring-type'].isna().any()"
      ],
      "metadata": {
        "colab": {
          "base_uri": "https://localhost:8080/"
        },
        "id": "eYVqxgeRYCFN",
        "outputId": "3f9b60f4-0634-4c46-f7a7-8ae8c7449d7f"
      },
      "execution_count": 9,
      "outputs": [
        {
          "output_type": "execute_result",
          "data": {
            "text/plain": [
              "False"
            ]
          },
          "metadata": {},
          "execution_count": 9
        }
      ]
    },
    {
      "cell_type": "markdown",
      "source": [
        "*Now that the null values have been handled, it is time to turn the string-based columns into number based columns. This will be done by creating dummy variables and by replacing strings representing boolean values with 0's and 1's.*"
      ],
      "metadata": {
        "id": "M6aslnlpdeXM"
      }
    },
    {
      "cell_type": "code",
      "source": [
        "data.info()"
      ],
      "metadata": {
        "colab": {
          "base_uri": "https://localhost:8080/"
        },
        "id": "WIjvms-TeB9r",
        "outputId": "6c802f5a-b806-4fde-db9c-44cf7554e211"
      },
      "execution_count": 10,
      "outputs": [
        {
          "output_type": "stream",
          "name": "stdout",
          "text": [
            "<class 'pandas.core.frame.DataFrame'>\n",
            "RangeIndex: 61069 entries, 0 to 61068\n",
            "Data columns (total 13 columns):\n",
            " #   Column                Non-Null Count  Dtype  \n",
            "---  ------                --------------  -----  \n",
            " 0   class                 61069 non-null  object \n",
            " 1   cap-diameter          61069 non-null  float64\n",
            " 2   cap-shape             61069 non-null  object \n",
            " 3   cap-color             61069 non-null  object \n",
            " 4   does-bruise-or-bleed  61069 non-null  object \n",
            " 5   gill-color            61069 non-null  object \n",
            " 6   stem-height           61069 non-null  float64\n",
            " 7   stem-width            61069 non-null  float64\n",
            " 8   stem-color            61069 non-null  object \n",
            " 9   has-ring              61069 non-null  object \n",
            " 10  ring-type             61069 non-null  object \n",
            " 11  habitat               61069 non-null  object \n",
            " 12  season                61069 non-null  object \n",
            "dtypes: float64(3), object(10)\n",
            "memory usage: 6.1+ MB\n"
          ]
        }
      ]
    },
    {
      "cell_type": "markdown",
      "source": [
        "*'class' is the target variable and has values of 'p' and 'e' (denoting poisonous and edible respectively). Values of 'p' will be 1 while 'e' will be 0, making the classification problem a question of \"if the mushroom is poisonous or not\".*\n",
        "\n",
        "*'cap-shape', 'cap-color', 'gill-color', 'stem-color', 'ring-type', 'habitat', and 'season' are all categorical and will be handled with one-hot encoding.*\n",
        "\n",
        "*'does-bruise-or-bleed', 'has-ring' can be represented with boolean (binary) values, just like 'class'.*\n",
        "\n",
        "*Below is the implementation of these conclusions, done using pandas function calls.*"
      ],
      "metadata": {
        "id": "HCHK2_gdoL4A"
      }
    },
    {
      "cell_type": "code",
      "source": [
        "#class first\n",
        "data['class'].replace(to_replace=['p','e'], value=[1,0], inplace=True)\n",
        "\n",
        "#other boolean columns\n",
        "data['does-bruise-or-bleed'].replace(to_replace=['t','f'], value=[1,0], inplace=True)\n",
        "data['has-ring'].replace(to_replace=['t','f'], value=[1,0], inplace=True)\n",
        "\n",
        "#dummies\n",
        "data = pd.get_dummies(data=data, columns=['cap-shape', 'cap-color', 'gill-color', 'stem-color', 'ring-type', 'habitat', 'season'])\n",
        "\n",
        "#check the data\n",
        "data.head()"
      ],
      "metadata": {
        "colab": {
          "base_uri": "https://localhost:8080/",
          "height": 352
        },
        "id": "CgC1z14Zeerz",
        "outputId": "3febbc4e-4a02-418d-9095-4d20e19dde52"
      },
      "execution_count": 11,
      "outputs": [
        {
          "output_type": "execute_result",
          "data": {
            "text/plain": [
              "   class  cap-diameter  does-bruise-or-bleed  stem-height  stem-width  \\\n",
              "0      1         15.26                     0        16.95       17.09   \n",
              "1      1         16.60                     0        17.99       18.19   \n",
              "2      1         14.07                     0        17.80       17.74   \n",
              "3      1         14.17                     0        15.77       15.98   \n",
              "4      1         14.64                     0        16.53       17.20   \n",
              "\n",
              "   has-ring  cap-shape_b  cap-shape_c  cap-shape_f  cap-shape_o  ...  \\\n",
              "0         1            0            0            0            0  ...   \n",
              "1         1            0            0            0            0  ...   \n",
              "2         1            0            0            0            0  ...   \n",
              "3         1            0            0            1            0  ...   \n",
              "4         1            0            0            0            0  ...   \n",
              "\n",
              "   habitat_h  habitat_l  habitat_m  habitat_p  habitat_u  habitat_w  season_a  \\\n",
              "0          0          0          0          0          0          0         0   \n",
              "1          0          0          0          0          0          0         0   \n",
              "2          0          0          0          0          0          0         0   \n",
              "3          0          0          0          0          0          0         0   \n",
              "4          0          0          0          0          0          0         0   \n",
              "\n",
              "   season_s  season_u  season_w  \n",
              "0         0         0         1  \n",
              "1         0         1         0  \n",
              "2         0         0         1  \n",
              "3         0         0         1  \n",
              "4         0         0         1  \n",
              "\n",
              "[5 rows x 70 columns]"
            ],
            "text/html": [
              "\n",
              "  <div id=\"df-6171450c-1426-480a-a51d-a36c6075af1b\">\n",
              "    <div class=\"colab-df-container\">\n",
              "      <div>\n",
              "<style scoped>\n",
              "    .dataframe tbody tr th:only-of-type {\n",
              "        vertical-align: middle;\n",
              "    }\n",
              "\n",
              "    .dataframe tbody tr th {\n",
              "        vertical-align: top;\n",
              "    }\n",
              "\n",
              "    .dataframe thead th {\n",
              "        text-align: right;\n",
              "    }\n",
              "</style>\n",
              "<table border=\"1\" class=\"dataframe\">\n",
              "  <thead>\n",
              "    <tr style=\"text-align: right;\">\n",
              "      <th></th>\n",
              "      <th>class</th>\n",
              "      <th>cap-diameter</th>\n",
              "      <th>does-bruise-or-bleed</th>\n",
              "      <th>stem-height</th>\n",
              "      <th>stem-width</th>\n",
              "      <th>has-ring</th>\n",
              "      <th>cap-shape_b</th>\n",
              "      <th>cap-shape_c</th>\n",
              "      <th>cap-shape_f</th>\n",
              "      <th>cap-shape_o</th>\n",
              "      <th>...</th>\n",
              "      <th>habitat_h</th>\n",
              "      <th>habitat_l</th>\n",
              "      <th>habitat_m</th>\n",
              "      <th>habitat_p</th>\n",
              "      <th>habitat_u</th>\n",
              "      <th>habitat_w</th>\n",
              "      <th>season_a</th>\n",
              "      <th>season_s</th>\n",
              "      <th>season_u</th>\n",
              "      <th>season_w</th>\n",
              "    </tr>\n",
              "  </thead>\n",
              "  <tbody>\n",
              "    <tr>\n",
              "      <th>0</th>\n",
              "      <td>1</td>\n",
              "      <td>15.26</td>\n",
              "      <td>0</td>\n",
              "      <td>16.95</td>\n",
              "      <td>17.09</td>\n",
              "      <td>1</td>\n",
              "      <td>0</td>\n",
              "      <td>0</td>\n",
              "      <td>0</td>\n",
              "      <td>0</td>\n",
              "      <td>...</td>\n",
              "      <td>0</td>\n",
              "      <td>0</td>\n",
              "      <td>0</td>\n",
              "      <td>0</td>\n",
              "      <td>0</td>\n",
              "      <td>0</td>\n",
              "      <td>0</td>\n",
              "      <td>0</td>\n",
              "      <td>0</td>\n",
              "      <td>1</td>\n",
              "    </tr>\n",
              "    <tr>\n",
              "      <th>1</th>\n",
              "      <td>1</td>\n",
              "      <td>16.60</td>\n",
              "      <td>0</td>\n",
              "      <td>17.99</td>\n",
              "      <td>18.19</td>\n",
              "      <td>1</td>\n",
              "      <td>0</td>\n",
              "      <td>0</td>\n",
              "      <td>0</td>\n",
              "      <td>0</td>\n",
              "      <td>...</td>\n",
              "      <td>0</td>\n",
              "      <td>0</td>\n",
              "      <td>0</td>\n",
              "      <td>0</td>\n",
              "      <td>0</td>\n",
              "      <td>0</td>\n",
              "      <td>0</td>\n",
              "      <td>0</td>\n",
              "      <td>1</td>\n",
              "      <td>0</td>\n",
              "    </tr>\n",
              "    <tr>\n",
              "      <th>2</th>\n",
              "      <td>1</td>\n",
              "      <td>14.07</td>\n",
              "      <td>0</td>\n",
              "      <td>17.80</td>\n",
              "      <td>17.74</td>\n",
              "      <td>1</td>\n",
              "      <td>0</td>\n",
              "      <td>0</td>\n",
              "      <td>0</td>\n",
              "      <td>0</td>\n",
              "      <td>...</td>\n",
              "      <td>0</td>\n",
              "      <td>0</td>\n",
              "      <td>0</td>\n",
              "      <td>0</td>\n",
              "      <td>0</td>\n",
              "      <td>0</td>\n",
              "      <td>0</td>\n",
              "      <td>0</td>\n",
              "      <td>0</td>\n",
              "      <td>1</td>\n",
              "    </tr>\n",
              "    <tr>\n",
              "      <th>3</th>\n",
              "      <td>1</td>\n",
              "      <td>14.17</td>\n",
              "      <td>0</td>\n",
              "      <td>15.77</td>\n",
              "      <td>15.98</td>\n",
              "      <td>1</td>\n",
              "      <td>0</td>\n",
              "      <td>0</td>\n",
              "      <td>1</td>\n",
              "      <td>0</td>\n",
              "      <td>...</td>\n",
              "      <td>0</td>\n",
              "      <td>0</td>\n",
              "      <td>0</td>\n",
              "      <td>0</td>\n",
              "      <td>0</td>\n",
              "      <td>0</td>\n",
              "      <td>0</td>\n",
              "      <td>0</td>\n",
              "      <td>0</td>\n",
              "      <td>1</td>\n",
              "    </tr>\n",
              "    <tr>\n",
              "      <th>4</th>\n",
              "      <td>1</td>\n",
              "      <td>14.64</td>\n",
              "      <td>0</td>\n",
              "      <td>16.53</td>\n",
              "      <td>17.20</td>\n",
              "      <td>1</td>\n",
              "      <td>0</td>\n",
              "      <td>0</td>\n",
              "      <td>0</td>\n",
              "      <td>0</td>\n",
              "      <td>...</td>\n",
              "      <td>0</td>\n",
              "      <td>0</td>\n",
              "      <td>0</td>\n",
              "      <td>0</td>\n",
              "      <td>0</td>\n",
              "      <td>0</td>\n",
              "      <td>0</td>\n",
              "      <td>0</td>\n",
              "      <td>0</td>\n",
              "      <td>1</td>\n",
              "    </tr>\n",
              "  </tbody>\n",
              "</table>\n",
              "<p>5 rows × 70 columns</p>\n",
              "</div>\n",
              "      <button class=\"colab-df-convert\" onclick=\"convertToInteractive('df-6171450c-1426-480a-a51d-a36c6075af1b')\"\n",
              "              title=\"Convert this dataframe to an interactive table.\"\n",
              "              style=\"display:none;\">\n",
              "        \n",
              "  <svg xmlns=\"http://www.w3.org/2000/svg\" height=\"24px\"viewBox=\"0 0 24 24\"\n",
              "       width=\"24px\">\n",
              "    <path d=\"M0 0h24v24H0V0z\" fill=\"none\"/>\n",
              "    <path d=\"M18.56 5.44l.94 2.06.94-2.06 2.06-.94-2.06-.94-.94-2.06-.94 2.06-2.06.94zm-11 1L8.5 8.5l.94-2.06 2.06-.94-2.06-.94L8.5 2.5l-.94 2.06-2.06.94zm10 10l.94 2.06.94-2.06 2.06-.94-2.06-.94-.94-2.06-.94 2.06-2.06.94z\"/><path d=\"M17.41 7.96l-1.37-1.37c-.4-.4-.92-.59-1.43-.59-.52 0-1.04.2-1.43.59L10.3 9.45l-7.72 7.72c-.78.78-.78 2.05 0 2.83L4 21.41c.39.39.9.59 1.41.59.51 0 1.02-.2 1.41-.59l7.78-7.78 2.81-2.81c.8-.78.8-2.07 0-2.86zM5.41 20L4 18.59l7.72-7.72 1.47 1.35L5.41 20z\"/>\n",
              "  </svg>\n",
              "      </button>\n",
              "      \n",
              "  <style>\n",
              "    .colab-df-container {\n",
              "      display:flex;\n",
              "      flex-wrap:wrap;\n",
              "      gap: 12px;\n",
              "    }\n",
              "\n",
              "    .colab-df-convert {\n",
              "      background-color: #E8F0FE;\n",
              "      border: none;\n",
              "      border-radius: 50%;\n",
              "      cursor: pointer;\n",
              "      display: none;\n",
              "      fill: #1967D2;\n",
              "      height: 32px;\n",
              "      padding: 0 0 0 0;\n",
              "      width: 32px;\n",
              "    }\n",
              "\n",
              "    .colab-df-convert:hover {\n",
              "      background-color: #E2EBFA;\n",
              "      box-shadow: 0px 1px 2px rgba(60, 64, 67, 0.3), 0px 1px 3px 1px rgba(60, 64, 67, 0.15);\n",
              "      fill: #174EA6;\n",
              "    }\n",
              "\n",
              "    [theme=dark] .colab-df-convert {\n",
              "      background-color: #3B4455;\n",
              "      fill: #D2E3FC;\n",
              "    }\n",
              "\n",
              "    [theme=dark] .colab-df-convert:hover {\n",
              "      background-color: #434B5C;\n",
              "      box-shadow: 0px 1px 3px 1px rgba(0, 0, 0, 0.15);\n",
              "      filter: drop-shadow(0px 1px 2px rgba(0, 0, 0, 0.3));\n",
              "      fill: #FFFFFF;\n",
              "    }\n",
              "  </style>\n",
              "\n",
              "      <script>\n",
              "        const buttonEl =\n",
              "          document.querySelector('#df-6171450c-1426-480a-a51d-a36c6075af1b button.colab-df-convert');\n",
              "        buttonEl.style.display =\n",
              "          google.colab.kernel.accessAllowed ? 'block' : 'none';\n",
              "\n",
              "        async function convertToInteractive(key) {\n",
              "          const element = document.querySelector('#df-6171450c-1426-480a-a51d-a36c6075af1b');\n",
              "          const dataTable =\n",
              "            await google.colab.kernel.invokeFunction('convertToInteractive',\n",
              "                                                     [key], {});\n",
              "          if (!dataTable) return;\n",
              "\n",
              "          const docLinkHtml = 'Like what you see? Visit the ' +\n",
              "            '<a target=\"_blank\" href=https://colab.research.google.com/notebooks/data_table.ipynb>data table notebook</a>'\n",
              "            + ' to learn more about interactive tables.';\n",
              "          element.innerHTML = '';\n",
              "          dataTable['output_type'] = 'display_data';\n",
              "          await google.colab.output.renderOutput(dataTable, element);\n",
              "          const docLink = document.createElement('div');\n",
              "          docLink.innerHTML = docLinkHtml;\n",
              "          element.appendChild(docLink);\n",
              "        }\n",
              "      </script>\n",
              "    </div>\n",
              "  </div>\n",
              "  "
            ]
          },
          "metadata": {},
          "execution_count": 11
        }
      ]
    },
    {
      "cell_type": "markdown",
      "source": [
        "*The next step is to create the test and train split, done using Sklearn's train_test_split.*"
      ],
      "metadata": {
        "id": "_MVYg-1H1iJy"
      }
    },
    {
      "cell_type": "code",
      "source": [
        "from sklearn.model_selection import train_test_split\n",
        "\n",
        "target_variable = 'class'\n",
        "predictors = data.columns.drop(target_variable) #everything but class\n",
        "\n",
        "train_data, test_data, train_sln, test_sln = train_test_split(data[predictors], \n",
        "                                                                  data[target_variable], test_size=0.2, random_state=1)"
      ],
      "metadata": {
        "id": "xdcsPiAI1cuD"
      },
      "execution_count": 12,
      "outputs": []
    },
    {
      "cell_type": "markdown",
      "source": [
        "*After splitting the data, the continuous columns are scaled with Sklearn's StandardScalar. Note that the scalar is fit on the training data and applied to the training and test data for consistency.*"
      ],
      "metadata": {
        "id": "33em4OgW3s8k"
      }
    },
    {
      "cell_type": "code",
      "source": [
        "from sklearn.preprocessing import StandardScaler\n",
        "scalar = StandardScaler(copy=False)\n",
        "\n",
        "#continuous numeric columns\n",
        "cols_continuous = ['cap-diameter','stem-height','stem-width']\n",
        "\n",
        "\n",
        "#fit the scalar for training data\n",
        "scalar.fit(train_data[cols_continuous])\n",
        "\n",
        "#scale both test and train data on the scalar fit for the training data\n",
        "train_normalized = scalar.transform(train_data[cols_continuous])\n",
        "test_normalized = scalar.transform(test_data[cols_continuous])"
      ],
      "metadata": {
        "id": "Ae6I7TwH3cbF"
      },
      "execution_count": 13,
      "outputs": []
    },
    {
      "cell_type": "markdown",
      "source": [
        "*Next I make our data usable in Keras models. I learned some strategies to do this via the TensorFlow tutorial page.\n",
        "https://www.tensorflow.org/tutorials/load_data/pandas_dataframe.*\n",
        "\n",
        "*The important thing to note is that Keras cannot take a dataframe as input, so our data must be converted into a tensorflow tensor.*"
      ],
      "metadata": {
        "id": "H2uCuENKE2Z4"
      }
    },
    {
      "cell_type": "code",
      "source": [
        "train_data = tf.convert_to_tensor(train_data)\n",
        "test_data = tf.convert_to_tensor(test_data)\n",
        "\n",
        "train_sln = tf.convert_to_tensor(train_sln)\n",
        "test_sln = tf.convert_to_tensor(test_sln)"
      ],
      "metadata": {
        "id": "giodt1GF62IT"
      },
      "execution_count": 14,
      "outputs": []
    },
    {
      "cell_type": "markdown",
      "source": [
        "*Now that we have the training and testing sets in terms that Keras can understand, we can begin our research.*"
      ],
      "metadata": {
        "id": "1XDUWvPr1KU-"
      }
    },
    {
      "cell_type": "markdown",
      "source": [
        "# 3. Research\n",
        "\n",
        "Put your code and your experiments here.\n",
        "\n",
        "*My initial test will be done on a \"default\" model, with two hidden layers trained on the default Adam optimizer. Please note that in all of these tests, multiple runs are done to make sure results are consistent and replicable. The only runs that are shown are those I deemed fit to lead me into the next step of changing the model.*"
      ],
      "metadata": {
        "id": "Hc7HMmNPR10W"
      }
    },
    {
      "cell_type": "code",
      "source": [
        "# code goes here... don't forget to include graphs. Professor Urness loves graphs.\n",
        "from keras.metrics import Accuracy\n",
        "\n",
        "n_features = train_data.shape[1] #input number for dimensions of the neural network\n",
        "\n",
        "model = Sequential()\n",
        "#hidden layers\n",
        "model.add(Dense(64, input_dim=n_features, activation='relu'))\n",
        "model.add(Dense(64, activation='relu'))\n",
        "#output layer\n",
        "model.add(Dense(1))\n",
        "\n",
        "# Compile model\n",
        "model.compile(optimizer='adam', \n",
        "              loss='binary_crossentropy', metrics=['accuracy'])\n",
        "\n",
        "model.summary()"
      ],
      "metadata": {
        "id": "XfaACsEOR4U5",
        "colab": {
          "base_uri": "https://localhost:8080/"
        },
        "outputId": "3f4dc8d0-65ad-40bd-f15b-0c11a0af228c"
      },
      "execution_count": 40,
      "outputs": [
        {
          "output_type": "stream",
          "name": "stdout",
          "text": [
            "Model: \"sequential_6\"\n",
            "_________________________________________________________________\n",
            " Layer (type)                Output Shape              Param #   \n",
            "=================================================================\n",
            " dense_20 (Dense)            (None, 64)                4480      \n",
            "                                                                 \n",
            " dense_21 (Dense)            (None, 64)                4160      \n",
            "                                                                 \n",
            " dense_22 (Dense)            (None, 1)                 65        \n",
            "                                                                 \n",
            "=================================================================\n",
            "Total params: 8,705\n",
            "Trainable params: 8,705\n",
            "Non-trainable params: 0\n",
            "_________________________________________________________________\n"
          ]
        }
      ]
    },
    {
      "cell_type": "code",
      "source": [
        "training_results = model.fit(\n",
        "        x=train_data,\n",
        "        y=train_sln,\n",
        "        epochs=20, #number of epochs \n",
        "        validation_data = (test_data, test_sln), #to get test accuracy for each epoch\n",
        "        verbose = 0 #No output to reduce the amount of total text\n",
        "        )"
      ],
      "metadata": {
        "id": "KkDp4-c1x5Xa"
      },
      "execution_count": 41,
      "outputs": []
    },
    {
      "cell_type": "code",
      "source": [
        "import matplotlib.pyplot as plt\n",
        "%matplotlib inline\n",
        "plt.plot(training_results.history['accuracy'])\n",
        "plt.plot(training_results.history['val_accuracy'])\n",
        "plt.title('model accuracy')\n",
        "plt.ylabel('accuracy')\n",
        "plt.xlabel('epoch')\n",
        "plt.legend(['train', 'test'], loc='upper left')\n",
        "plt.show()"
      ],
      "metadata": {
        "colab": {
          "base_uri": "https://localhost:8080/",
          "height": 315
        },
        "id": "_P3Geqq6x6Og",
        "outputId": "ab51e422-0fcb-44d5-fd8b-968332b1663e"
      },
      "execution_count": 42,
      "outputs": [
        {
          "output_type": "display_data",
          "data": {
            "text/plain": [
              "<Figure size 432x288 with 1 Axes>"
            ],
            "image/png": "[encoded data removed]"
          },
          "metadata": {
            "needs_background": "light"
          }
        }
      ]
    },
    {
      "cell_type": "markdown",
      "source": [
        "*The default learning rate sems to be too high, or the model needs to be trained further to converge. My next attempts will increase the number of epochs and change the learning rate of the optimizer. Note that the type of optimizer (Adam) will not be changed.*"
      ],
      "metadata": {
        "id": "MKFo6Yc2xkbc"
      }
    },
    {
      "cell_type": "code",
      "source": [
        "n_features = train_data.shape[1] #input number for dimensions of the neural network\n",
        "\n",
        "model_tuned = Sequential()\n",
        "#hidden layers\n",
        "model_tuned.add(Dense(64, input_dim=n_features, activation='relu'))\n",
        "model_tuned.add(Dense(64, activation='relu'))\n",
        "#output layer\n",
        "model_tuned.add(Dense(1))\n",
        "\n",
        "# Compile model\n",
        "model_tuned.compile(optimizer=tf.keras.optimizers.Adam(learning_rate=0.0001), #default learning rate is 0.001\n",
        "              loss='binary_crossentropy', metrics=['accuracy'])\n",
        "\n",
        "training_results = model_tuned.fit(\n",
        "        x=train_data,\n",
        "        y=train_sln,\n",
        "        epochs=20, #number of epochs \n",
        "        validation_data = (test_data, test_sln), #to get test accuracy for each epoch\n",
        "        verbose = 0 #no output\n",
        "        )\n",
        "\n",
        "import matplotlib.pyplot as plt\n",
        "%matplotlib inline\n",
        "plt.plot(training_results.history['accuracy'])\n",
        "plt.plot(training_results.history['val_accuracy'])\n",
        "plt.title('tuned model accuracy')\n",
        "plt.ylabel('accuracy')\n",
        "plt.xlabel('epoch')\n",
        "plt.legend(['train', 'test'], loc='upper left')\n",
        "plt.show()"
      ],
      "metadata": {
        "colab": {
          "base_uri": "https://localhost:8080/",
          "height": 295
        },
        "outputId": "26f74e37-a9f8-4745-da79-1d4723616715",
        "id": "Li7bl1bVYGwg"
      },
      "execution_count": 18,
      "outputs": [
        {
          "output_type": "display_data",
          "data": {
            "text/plain": [
              "<Figure size 432x288 with 1 Axes>"
            ],
            "image/png": "[encoded data removed]"
          },
          "metadata": {
            "needs_background": "light"
          }
        }
      ]
    },
    {
      "cell_type": "markdown",
      "source": [
        "*Next is to examine how the model changes with varying layer size and amount. My goal is to make the smallest overall size coverge with a high accuracy. I will adjust node number, hidden layer amount (if applicable), activation functions, and epochs.*"
      ],
      "metadata": {
        "id": "1ePXXDJ74r07"
      }
    },
    {
      "cell_type": "code",
      "source": [
        "n_features = train_data.shape[1] #input number for dimensions of the neural network\n",
        "\n",
        "model_tuned = Sequential()\n",
        "\n",
        "#hidden layers\n",
        "model_tuned.add(Dense(16, input_dim=n_features, activation='relu'))\n",
        "model_tuned.add(Dense(8, activation='relu'))\n",
        "\n",
        "#output layer\n",
        "model_tuned.add(Dense(1, activation='sigmoid'))\n",
        "\n",
        "# Compile model\n",
        "model_tuned.compile(optimizer=tf.keras.optimizers.Adam(learning_rate=0.0002), #default learning rate is 0.001\n",
        "              loss='binary_crossentropy', metrics=['accuracy'])\n",
        "\n",
        "training_results = model_tuned.fit(\n",
        "        x=train_data,\n",
        "        y=train_sln,\n",
        "        epochs=20, #number of epochs \n",
        "        validation_data = (test_data, test_sln), #to get test accuracy for each epoch\n",
        "        verbose = 0 #no output\n",
        "        )\n",
        "\n",
        "import matplotlib.pyplot as plt\n",
        "%matplotlib inline\n",
        "plt.plot(training_results.history['accuracy'])\n",
        "plt.plot(training_results.history['val_accuracy'])\n",
        "plt.title('2 layers, 16 and 8 nodes accuracy')\n",
        "plt.ylabel('accuracy')\n",
        "plt.xlabel('epoch')\n",
        "plt.legend(['train', 'test'], loc='upper left')\n",
        "plt.show()"
      ],
      "metadata": {
        "colab": {
          "base_uri": "https://localhost:8080/",
          "height": 315
        },
        "outputId": "9fba2e4a-6810-455d-aa2d-55700cfeb54f",
        "id": "sw8LI69xco3N"
      },
      "execution_count": 28,
      "outputs": [
        {
          "output_type": "display_data",
          "data": {
            "text/plain": [
              "<Figure size 432x288 with 1 Axes>"
            ],
            "image/png": "[encoded data removed]"
          },
          "metadata": {
            "needs_background": "light"
          }
        }
      ]
    },
    {
      "cell_type": "code",
      "source": [
        "#Confusion Matrix\n",
        "from sklearn.metrics import confusion_matrix\n",
        "import numpy as np\n",
        "import seaborn as sn\n",
        "import matplotlib.pyplot as plt\n",
        "\n",
        "\n",
        "#get prediction for matrix\n",
        "prediction = model_tuned.predict(test_data)\n",
        "\n",
        "#Set values such that we have binary instead of floats, dividing at 0.5 per the sigmoid activation function\n",
        "for i in range(len(prediction)):\n",
        "  if prediction[i][0] >= 0.5:\n",
        "    prediction[i][0] = 1\n",
        "  else:\n",
        "    prediction[i][0] = 0\n",
        "\n",
        "\n",
        "\n",
        "result = confusion_matrix(test_sln, prediction, normalize='true')\n",
        "\n",
        "\n",
        "df_cm = pd.DataFrame(result, range(2), range(2))\n",
        "# plt.figure(figsize=(10,7))\n",
        "sn.set(font_scale=1.4) # for label size\n",
        "sn.heatmap(df_cm, annot=True, annot_kws={\"size\": 16}) # font size\n",
        "\n",
        "plt.show()"
      ],
      "metadata": {
        "colab": {
          "base_uri": "https://localhost:8080/",
          "height": 290
        },
        "id": "o_tzmiZn1RmG",
        "outputId": "08bcc6b5-7d13-4d7d-be2d-9d5834267c72"
      },
      "execution_count": 39,
      "outputs": [
        {
          "output_type": "stream",
          "name": "stdout",
          "text": [
            "382/382 [==============================] - 1s 3ms/step\n"
          ]
        },
        {
          "output_type": "display_data",
          "data": {
            "text/plain": [
              "<Figure size 432x288 with 2 Axes>"
            ],
            "image/png": "[encoded data removed]"
          },
          "metadata": {}
        }
      ]
    },
    {
      "cell_type": "markdown",
      "source": [
        "*The above model has the best balance of factors and a confusion matrix to fit. Below is where I finally reach a point where it takes longer for the accuracy to increase.*"
      ],
      "metadata": {
        "id": "nOCeuB94gblS"
      }
    },
    {
      "cell_type": "code",
      "source": [
        "n_features = train_data.shape[1] #input number for dimensions of the neural network\n",
        "\n",
        "model_tuned = Sequential()\n",
        "\n",
        "#hidden layers\n",
        "model_tuned.add(Dense(8, input_dim=n_features, activation='relu'))\n",
        "model_tuned.add(Dense(4, activation='relu'))\n",
        "\n",
        "#output layer\n",
        "model_tuned.add(Dense(1, activation='sigmoid'))\n",
        "\n",
        "# Compile model\n",
        "model_tuned.compile(optimizer=tf.keras.optimizers.Adam(learning_rate=0.0002), #default learning rate is 0.001\n",
        "              loss='binary_crossentropy', metrics=['accuracy'])\n",
        "\n",
        "training_results = model_tuned.fit(\n",
        "        x=train_data,\n",
        "        y=train_sln,\n",
        "        epochs=50, #number of epochs \n",
        "        validation_data = (test_data, test_sln), #to get test accuracy for each epoch\n",
        "        verbose = 0 #no output\n",
        "        )\n",
        "\n",
        "import matplotlib.pyplot as plt\n",
        "%matplotlib inline\n",
        "plt.plot(training_results.history['accuracy'])\n",
        "plt.plot(training_results.history['val_accuracy'])\n",
        "plt.title('2 layers, 8 and 4 nodes accuracy')\n",
        "plt.ylabel('accuracy')\n",
        "plt.xlabel('epoch')\n",
        "plt.legend(['train', 'test'], loc='upper left')\n",
        "plt.show()"
      ],
      "metadata": {
        "colab": {
          "base_uri": "https://localhost:8080/",
          "height": 295
        },
        "outputId": "969c2246-784b-4f03-d911-753b04fb42d6",
        "id": "i0wH4fCEdMTZ"
      },
      "execution_count": 20,
      "outputs": [
        {
          "output_type": "display_data",
          "data": {
            "text/plain": [
              "<Figure size 432x288 with 1 Axes>"
            ],
            "image/png": "[encoded data removed]"
          },
          "metadata": {
            "needs_background": "light"
          }
        }
      ]
    },
    {
      "cell_type": "markdown",
      "source": [
        "*Adding in more layers does not change the accuracy by much, as shown in the next model. More nodes are needed per layer and fewer layers works.*"
      ],
      "metadata": {
        "id": "9LvOfm5RgpFe"
      }
    },
    {
      "cell_type": "code",
      "source": [
        "n_features = train_data.shape[1] #input number for dimensions of the neural network\n",
        "\n",
        "model_tuned = Sequential()\n",
        "\n",
        "#hidden layers\n",
        "model_tuned.add(Dense(6, input_dim=n_features, activation='relu'))\n",
        "model_tuned.add(Dense(4, activation='relu'))\n",
        "model_tuned.add(Dense(4, activation='relu'))\n",
        "model_tuned.add(Dense(2, activation='relu'))\n",
        "\n",
        "#output layer\n",
        "model_tuned.add(Dense(1, activation='sigmoid'))\n",
        "\n",
        "# Compile model\n",
        "model_tuned.compile(optimizer=tf.keras.optimizers.Adam(learning_rate=0.0002), #default learning rate is 0.001\n",
        "              loss='binary_crossentropy', metrics=['accuracy'])\n",
        "\n",
        "training_results = model_tuned.fit(\n",
        "        x=train_data,\n",
        "        y=train_sln,\n",
        "        epochs=20, #number of epochs \n",
        "        validation_data = (test_data, test_sln), #to get test accuracy for each epoch\n",
        "        verbose = 0 #no output\n",
        "        )\n",
        "\n",
        "import matplotlib.pyplot as plt\n",
        "%matplotlib inline\n",
        "plt.plot(training_results.history['accuracy'])\n",
        "plt.plot(training_results.history['val_accuracy'])\n",
        "plt.title('4 layer model accuracy')\n",
        "plt.ylabel('accuracy')\n",
        "plt.xlabel('epoch')\n",
        "plt.legend(['train', 'test'], loc='upper left')\n",
        "plt.show()"
      ],
      "metadata": {
        "colab": {
          "base_uri": "https://localhost:8080/",
          "height": 295
        },
        "outputId": "0257466f-a78b-4568-d4f3-8992877d7162",
        "id": "1Nu11ty5es8e"
      },
      "execution_count": 21,
      "outputs": [
        {
          "output_type": "display_data",
          "data": {
            "text/plain": [
              "<Figure size 432x288 with 1 Axes>"
            ],
            "image/png": "[encoded data removed]"
          },
          "metadata": {
            "needs_background": "light"
          }
        }
      ]
    },
    {
      "cell_type": "markdown",
      "source": [
        "#4. Analysis\n",
        "\n",
        "What did you discover? What insights/recommendations do you have? What did you find that was interesting? Which model was your best model, which models didn't work well? Why do you think this is? In general, I want a discussion of your experiment, the results, and what they mean."
      ],
      "metadata": {
        "id": "2Qu9bYPLmiv_"
      }
    },
    {
      "cell_type": "markdown",
      "source": [
        "*A smaller number of layers and nodes than expected are needed to make a multi-layer perceptron model converge for this dataset. Training time was similar for models of various sizes. I was surprised that changing the number of nodes in each layer didn't significantly change the training time. Epoch number was the variable that significantly changed the model training time, which is not surprising.*\n",
        "\n",
        "*My plan for optimizing the model was to first optimize the learning rate and epoch amount for a \"default\" model, then change layer number, size, and activation to see how efficient I could make the model.*\n",
        "\n",
        "*My initial models used two layers with 64 nodes, as we had worked on that scale for some previous exercises. After optimizing the learning rate, I dropped the node number until it took noticeably longer for the model to converge. The point where things started being less accurate was two layers with 8 and 4 nodes, which reached just above 90% accuracy after 50 epochs, while the original model (two layers at 64 nodes each) took 20 epochs to reach over 95% accuracy. The middle ground that I believe to be close to optimal is two layers with 16 and 8 nodes trained on 20 epochs. This model has a similar accuracy to the larger models and converges in the same amount of time and epochs. This was my best model.*\n",
        "\n",
        "*My results suggest that the data is separable by a few factors and that the correlation between those factors is simple enough to be trained on two layers. In terms of the problem, we can be fairly confident (about 95% confident) in this model when deciding whether a certian mushroom type is poisnonous.*"
      ],
      "metadata": {
        "id": "k17sKBZUmqIH"
      }
    },
    {
      "cell_type": "markdown",
      "source": [
        "# 5. Bumps in the Road\n",
        "What challenges did you encounter? How did you overcome these challenges?"
      ],
      "metadata": {
        "id": "TemAuKxlm6dQ"
      }
    },
    {
      "cell_type": "markdown",
      "source": [
        "*I had the most bumps in the road during data preparation, as it was the section that took me the most time. Deciding what data to keep and use was a struggle I figured out via looking through the pandas documentation, where I then was able to use the info() call to analyze the data. Making the data able to be used in the Keras models was my biggest struggle in data preaparation. The solution was to convert the dataframes to tensors, but coming up with that took several documentation sites and Stack Overflow posts.*\n",
        "\n",
        "*Formatting my models in the Keras library was a task one could consider a sturggle, due to the troubleshooting it took. Reading through our previous class examples helped a bit, but I had to read through several documentation sites to figure out how to change things for my problem.*\n",
        "\n",
        "*Overall, I overcame my challenges by reading documentation and paying special attention to detail when giving function arguments.*"
      ],
      "metadata": {
        "id": "zXEVEG9FnHgQ"
      }
    }
  ]
}